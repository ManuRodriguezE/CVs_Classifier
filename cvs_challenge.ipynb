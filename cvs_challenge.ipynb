{
 "cells": [
  {
   "cell_type": "code",
   "execution_count": 1,
   "id": "a4d39686-32e5-4a60-9139-68017974ae0c",
   "metadata": {
    "tags": []
   },
   "outputs": [
    {
     "name": "stdout",
     "output_type": "stream",
     "text": [
      "sagemaker.config INFO - Not applying SDK defaults from location: /etc/xdg/sagemaker/config.yaml\n",
      "sagemaker.config INFO - Not applying SDK defaults from location: /home/ec2-user/.config/sagemaker/config.yaml\n"
     ]
    }
   ],
   "source": [
    "import boto3\n",
    "import pandas as pd\n",
    "from sklearn.feature_extraction.text import TfidfVectorizer\n",
    "from sklearn.model_selection import train_test_split\n",
    "from sklearn.ensemble import RandomForestRegressor\n",
    "from sklearn.metrics import mean_squared_error\n",
    "import joblib\n",
    "import sagemaker\n",
    "from sagemaker.sklearn import SKLearn\n",
    "from io import BytesIO\n",
    "from tqdm import tqdm \n",
    "from sklearn.metrics.pairwise import cosine_similarity\n",
    "from sklearn.feature_extraction.text import CountVectorizer"
   ]
  },
  {
   "cell_type": "code",
   "execution_count": 2,
   "id": "d72bf458-6109-48fd-bcf9-c4288fe35f8f",
   "metadata": {
    "tags": []
   },
   "outputs": [
    {
     "name": "stdout",
     "output_type": "stream",
     "text": [
      "<botocore.client.S3 object at 0x7f4bdd28ae90>\n"
     ]
    }
   ],
   "source": [
    "# Configuración inicial\n",
    "s3_bucket = \"challenge-cvs-test-target\"\n",
    "output_s3 = \"challenge-csvstest\"\n",
    "\n",
    "# Crear cliente S3\n",
    "s3 = boto3.client('s3')\n",
    "print(s3)"
   ]
  },
  {
   "cell_type": "code",
   "execution_count": 3,
   "id": "21714adb-372e-4f43-ac57-dd572dac496f",
   "metadata": {
    "tags": []
   },
   "outputs": [],
   "source": [
    "# Obtener la lista de archivos Parquet en el bucket\n",
    "response = s3.list_objects_v2(Bucket=s3_bucket, Prefix=\"\")\n",
    "parquet_files = [obj['Key'] for obj in response.get('Contents', []) if obj['Key'].endswith('.parquet')]"
   ]
  },
  {
   "cell_type": "code",
   "execution_count": 4,
   "id": "bf307141-36aa-444f-9563-67e9472cbbe3",
   "metadata": {
    "tags": []
   },
   "outputs": [],
   "source": [
    "# Diccionario para agrupar por esquema de columnas\n",
    "schemas = {}\n",
    "\n",
    "# Leer y agrupar los archivos Parquet\n",
    "for file_key in parquet_files:\n",
    "    # Descargar el archivo Parquet desde S3\n",
    "    response = s3.get_object(Bucket=s3_bucket, Key=file_key)\n",
    "    parquet_data = BytesIO(response['Body'].read())\n",
    "\n",
    "    # Leer el archivo Parquet en un DataFrame\n",
    "    df = pd.read_parquet(parquet_data)\n",
    "\n",
    "    # Crear una clave única basada en las columnas\n",
    "    column_schema = tuple(df.columns)\n",
    "\n",
    "    # Agrupar los DataFrames con el mismo esquema de columnas\n",
    "    if column_schema not in schemas:\n",
    "        schemas[column_schema] = []\n",
    "    schemas[column_schema].append(df)\n",
    "\n",
    "# Concatenar los DataFrames dentro de cada grupo\n",
    "dataframes = [pd.concat(dfs, ignore_index=True) for dfs in schemas.values()]\n",
    "\n",
    "# Resultados: dos DataFrames con diferentes esquemas\n",
    "if len(dataframes) == 2:\n",
    "    vacantes, candidatos = dataframes\n",
    "else:\n",
    "    print(\"Se encontraron más o menos de dos esquemas.\")\n",
    "    for i, df in enumerate(dataframes):\n",
    "        print(f\"DataFrame {i+1}:\\n\", df.head())"
   ]
  },
  {
   "cell_type": "code",
   "execution_count": 5,
   "id": "aa1f9dd0-4f28-4bf9-af49-f9ae5b0599c6",
   "metadata": {
    "tags": []
   },
   "outputs": [
    {
     "name": "stdout",
     "output_type": "stream",
     "text": [
      "Index(['ID_Vacante', 'Titulo_Puesto', 'Descripcion', 'Requisitos'], dtype='object')\n",
      "(30000, 4)\n"
     ]
    }
   ],
   "source": [
    "print(vacantes.columns)\n",
    "print(vacantes.shape)"
   ]
  },
  {
   "cell_type": "code",
   "execution_count": 6,
   "id": "0742e53b-483c-4bd1-bf06-8ec658acae8d",
   "metadata": {
    "tags": []
   },
   "outputs": [
    {
     "name": "stdout",
     "output_type": "stream",
     "text": [
      "Index(['ID_Candidato', 'Nombre', 'Email', 'Telefono', 'Direccion',\n",
      "       'ID_Experiencia', 'Empresa', 'Titulo_Puesto', 'Duracion',\n",
      "       'Habilidades_Utilizadas'],\n",
      "      dtype='object')\n",
      "(50000, 10)\n"
     ]
    }
   ],
   "source": [
    "print(candidatos.columns)\n",
    "print(candidatos.shape)"
   ]
  },
  {
   "cell_type": "code",
   "execution_count": 7,
   "id": "6db96115-31c2-4120-911d-fbd209c76b4e",
   "metadata": {
    "tags": []
   },
   "outputs": [],
   "source": [
    "vacantes_reducido = vacantes.sample(20, random_state=42)\n",
    "candidatos_reducido = candidatos.sample(10000, random_state=42)\n",
    "\n",
    "# Emparejar las vacantes seleccionadas con todos los candidatos\n",
    "combinacion = vacantes_reducido.merge(candidatos_reducido, how='cross')"
   ]
  },
  {
   "cell_type": "code",
   "execution_count": 8,
   "id": "ef58ad28-c708-42c6-b32d-01c8fd52ed7b",
   "metadata": {
    "tags": []
   },
   "outputs": [
    {
     "data": {
      "text/plain": [
       "(200000, 14)"
      ]
     },
     "execution_count": 8,
     "metadata": {},
     "output_type": "execute_result"
    }
   ],
   "source": [
    "combinacion.shape"
   ]
  },
  {
   "cell_type": "code",
   "execution_count": 9,
   "id": "3d88811e-9512-47d5-8e98-61a5123dd9e3",
   "metadata": {
    "tags": []
   },
   "outputs": [],
   "source": [
    "# Función para calcular etiquetas (simulación de puntuaciones históricas)\n",
    "def calcular_puntaje(row):\n",
    "    req_habilidades = set(row['Requisitos'].split(\", \"))\n",
    "    cand_habilidades = set(row['Habilidades_Utilizadas'].split(\", \"))\n",
    "    interseccion = req_habilidades.intersection(cand_habilidades)\n",
    "    return len(interseccion) / len(req_habilidades) * 100 if req_habilidades else 0"
   ]
  },
  {
   "cell_type": "code",
   "execution_count": 10,
   "id": "317d9bb1-fa30-4168-a244-93236fee20e1",
   "metadata": {
    "tags": []
   },
   "outputs": [],
   "source": [
    "# Etiqueta: Ranking de compatibilidad\n",
    "combinacion['Ranking_Compatibilidad'] = combinacion.apply(calcular_puntaje, axis=1)\n",
    "\n",
    "# Seleccionar columnas relevantes\n",
    "X = combinacion[['Requisitos', 'Habilidades_Utilizadas', 'Titulo_Puesto_x', 'Duracion']]\n",
    "y = combinacion['Ranking_Compatibilidad']\n",
    "\n",
    "# Vectorizar texto con TF-IDF\n",
    "tfidf = TfidfVectorizer()\n",
    "X_tfidf_requisitos = tfidf.fit_transform(X['Requisitos']).toarray()\n",
    "X_tfidf_habilidades = tfidf.transform(X['Habilidades_Utilizadas']).toarray()"
   ]
  },
  {
   "cell_type": "code",
   "execution_count": 11,
   "id": "472f0bde-3f72-4f9e-92be-ee38fed8a52a",
   "metadata": {
    "tags": []
   },
   "outputs": [
    {
     "name": "stdout",
     "output_type": "stream",
     "text": [
      "(200000, 9)\n",
      "(200000, 9)\n"
     ]
    }
   ],
   "source": [
    "print(X_tfidf_requisitos.shape)\n",
    "print(X_tfidf_habilidades.shape)"
   ]
  },
  {
   "cell_type": "code",
   "execution_count": 12,
   "id": "af269668-cb64-4059-9e3f-71d4f3792001",
   "metadata": {
    "tags": []
   },
   "outputs": [
    {
     "data": {
      "text/html": [
       "<style>#sk-container-id-1 {\n",
       "  /* Definition of color scheme common for light and dark mode */\n",
       "  --sklearn-color-text: black;\n",
       "  --sklearn-color-line: gray;\n",
       "  /* Definition of color scheme for unfitted estimators */\n",
       "  --sklearn-color-unfitted-level-0: #fff5e6;\n",
       "  --sklearn-color-unfitted-level-1: #f6e4d2;\n",
       "  --sklearn-color-unfitted-level-2: #ffe0b3;\n",
       "  --sklearn-color-unfitted-level-3: chocolate;\n",
       "  /* Definition of color scheme for fitted estimators */\n",
       "  --sklearn-color-fitted-level-0: #f0f8ff;\n",
       "  --sklearn-color-fitted-level-1: #d4ebff;\n",
       "  --sklearn-color-fitted-level-2: #b3dbfd;\n",
       "  --sklearn-color-fitted-level-3: cornflowerblue;\n",
       "\n",
       "  /* Specific color for light theme */\n",
       "  --sklearn-color-text-on-default-background: var(--sg-text-color, var(--theme-code-foreground, var(--jp-content-font-color1, black)));\n",
       "  --sklearn-color-background: var(--sg-background-color, var(--theme-background, var(--jp-layout-color0, white)));\n",
       "  --sklearn-color-border-box: var(--sg-text-color, var(--theme-code-foreground, var(--jp-content-font-color1, black)));\n",
       "  --sklearn-color-icon: #696969;\n",
       "\n",
       "  @media (prefers-color-scheme: dark) {\n",
       "    /* Redefinition of color scheme for dark theme */\n",
       "    --sklearn-color-text-on-default-background: var(--sg-text-color, var(--theme-code-foreground, var(--jp-content-font-color1, white)));\n",
       "    --sklearn-color-background: var(--sg-background-color, var(--theme-background, var(--jp-layout-color0, #111)));\n",
       "    --sklearn-color-border-box: var(--sg-text-color, var(--theme-code-foreground, var(--jp-content-font-color1, white)));\n",
       "    --sklearn-color-icon: #878787;\n",
       "  }\n",
       "}\n",
       "\n",
       "#sk-container-id-1 {\n",
       "  color: var(--sklearn-color-text);\n",
       "}\n",
       "\n",
       "#sk-container-id-1 pre {\n",
       "  padding: 0;\n",
       "}\n",
       "\n",
       "#sk-container-id-1 input.sk-hidden--visually {\n",
       "  border: 0;\n",
       "  clip: rect(1px 1px 1px 1px);\n",
       "  clip: rect(1px, 1px, 1px, 1px);\n",
       "  height: 1px;\n",
       "  margin: -1px;\n",
       "  overflow: hidden;\n",
       "  padding: 0;\n",
       "  position: absolute;\n",
       "  width: 1px;\n",
       "}\n",
       "\n",
       "#sk-container-id-1 div.sk-dashed-wrapped {\n",
       "  border: 1px dashed var(--sklearn-color-line);\n",
       "  margin: 0 0.4em 0.5em 0.4em;\n",
       "  box-sizing: border-box;\n",
       "  padding-bottom: 0.4em;\n",
       "  background-color: var(--sklearn-color-background);\n",
       "}\n",
       "\n",
       "#sk-container-id-1 div.sk-container {\n",
       "  /* jupyter's `normalize.less` sets `[hidden] { display: none; }`\n",
       "     but bootstrap.min.css set `[hidden] { display: none !important; }`\n",
       "     so we also need the `!important` here to be able to override the\n",
       "     default hidden behavior on the sphinx rendered scikit-learn.org.\n",
       "     See: https://github.com/scikit-learn/scikit-learn/issues/21755 */\n",
       "  display: inline-block !important;\n",
       "  position: relative;\n",
       "}\n",
       "\n",
       "#sk-container-id-1 div.sk-text-repr-fallback {\n",
       "  display: none;\n",
       "}\n",
       "\n",
       "div.sk-parallel-item,\n",
       "div.sk-serial,\n",
       "div.sk-item {\n",
       "  /* draw centered vertical line to link estimators */\n",
       "  background-image: linear-gradient(var(--sklearn-color-text-on-default-background), var(--sklearn-color-text-on-default-background));\n",
       "  background-size: 2px 100%;\n",
       "  background-repeat: no-repeat;\n",
       "  background-position: center center;\n",
       "}\n",
       "\n",
       "/* Parallel-specific style estimator block */\n",
       "\n",
       "#sk-container-id-1 div.sk-parallel-item::after {\n",
       "  content: \"\";\n",
       "  width: 100%;\n",
       "  border-bottom: 2px solid var(--sklearn-color-text-on-default-background);\n",
       "  flex-grow: 1;\n",
       "}\n",
       "\n",
       "#sk-container-id-1 div.sk-parallel {\n",
       "  display: flex;\n",
       "  align-items: stretch;\n",
       "  justify-content: center;\n",
       "  background-color: var(--sklearn-color-background);\n",
       "  position: relative;\n",
       "}\n",
       "\n",
       "#sk-container-id-1 div.sk-parallel-item {\n",
       "  display: flex;\n",
       "  flex-direction: column;\n",
       "}\n",
       "\n",
       "#sk-container-id-1 div.sk-parallel-item:first-child::after {\n",
       "  align-self: flex-end;\n",
       "  width: 50%;\n",
       "}\n",
       "\n",
       "#sk-container-id-1 div.sk-parallel-item:last-child::after {\n",
       "  align-self: flex-start;\n",
       "  width: 50%;\n",
       "}\n",
       "\n",
       "#sk-container-id-1 div.sk-parallel-item:only-child::after {\n",
       "  width: 0;\n",
       "}\n",
       "\n",
       "/* Serial-specific style estimator block */\n",
       "\n",
       "#sk-container-id-1 div.sk-serial {\n",
       "  display: flex;\n",
       "  flex-direction: column;\n",
       "  align-items: center;\n",
       "  background-color: var(--sklearn-color-background);\n",
       "  padding-right: 1em;\n",
       "  padding-left: 1em;\n",
       "}\n",
       "\n",
       "\n",
       "/* Toggleable style: style used for estimator/Pipeline/ColumnTransformer box that is\n",
       "clickable and can be expanded/collapsed.\n",
       "- Pipeline and ColumnTransformer use this feature and define the default style\n",
       "- Estimators will overwrite some part of the style using the `sk-estimator` class\n",
       "*/\n",
       "\n",
       "/* Pipeline and ColumnTransformer style (default) */\n",
       "\n",
       "#sk-container-id-1 div.sk-toggleable {\n",
       "  /* Default theme specific background. It is overwritten whether we have a\n",
       "  specific estimator or a Pipeline/ColumnTransformer */\n",
       "  background-color: var(--sklearn-color-background);\n",
       "}\n",
       "\n",
       "/* Toggleable label */\n",
       "#sk-container-id-1 label.sk-toggleable__label {\n",
       "  cursor: pointer;\n",
       "  display: block;\n",
       "  width: 100%;\n",
       "  margin-bottom: 0;\n",
       "  padding: 0.5em;\n",
       "  box-sizing: border-box;\n",
       "  text-align: center;\n",
       "}\n",
       "\n",
       "#sk-container-id-1 label.sk-toggleable__label-arrow:before {\n",
       "  /* Arrow on the left of the label */\n",
       "  content: \"▸\";\n",
       "  float: left;\n",
       "  margin-right: 0.25em;\n",
       "  color: var(--sklearn-color-icon);\n",
       "}\n",
       "\n",
       "#sk-container-id-1 label.sk-toggleable__label-arrow:hover:before {\n",
       "  color: var(--sklearn-color-text);\n",
       "}\n",
       "\n",
       "/* Toggleable content - dropdown */\n",
       "\n",
       "#sk-container-id-1 div.sk-toggleable__content {\n",
       "  max-height: 0;\n",
       "  max-width: 0;\n",
       "  overflow: hidden;\n",
       "  text-align: left;\n",
       "  /* unfitted */\n",
       "  background-color: var(--sklearn-color-unfitted-level-0);\n",
       "}\n",
       "\n",
       "#sk-container-id-1 div.sk-toggleable__content.fitted {\n",
       "  /* fitted */\n",
       "  background-color: var(--sklearn-color-fitted-level-0);\n",
       "}\n",
       "\n",
       "#sk-container-id-1 div.sk-toggleable__content pre {\n",
       "  margin: 0.2em;\n",
       "  border-radius: 0.25em;\n",
       "  color: var(--sklearn-color-text);\n",
       "  /* unfitted */\n",
       "  background-color: var(--sklearn-color-unfitted-level-0);\n",
       "}\n",
       "\n",
       "#sk-container-id-1 div.sk-toggleable__content.fitted pre {\n",
       "  /* unfitted */\n",
       "  background-color: var(--sklearn-color-fitted-level-0);\n",
       "}\n",
       "\n",
       "#sk-container-id-1 input.sk-toggleable__control:checked~div.sk-toggleable__content {\n",
       "  /* Expand drop-down */\n",
       "  max-height: 200px;\n",
       "  max-width: 100%;\n",
       "  overflow: auto;\n",
       "}\n",
       "\n",
       "#sk-container-id-1 input.sk-toggleable__control:checked~label.sk-toggleable__label-arrow:before {\n",
       "  content: \"▾\";\n",
       "}\n",
       "\n",
       "/* Pipeline/ColumnTransformer-specific style */\n",
       "\n",
       "#sk-container-id-1 div.sk-label input.sk-toggleable__control:checked~label.sk-toggleable__label {\n",
       "  color: var(--sklearn-color-text);\n",
       "  background-color: var(--sklearn-color-unfitted-level-2);\n",
       "}\n",
       "\n",
       "#sk-container-id-1 div.sk-label.fitted input.sk-toggleable__control:checked~label.sk-toggleable__label {\n",
       "  background-color: var(--sklearn-color-fitted-level-2);\n",
       "}\n",
       "\n",
       "/* Estimator-specific style */\n",
       "\n",
       "/* Colorize estimator box */\n",
       "#sk-container-id-1 div.sk-estimator input.sk-toggleable__control:checked~label.sk-toggleable__label {\n",
       "  /* unfitted */\n",
       "  background-color: var(--sklearn-color-unfitted-level-2);\n",
       "}\n",
       "\n",
       "#sk-container-id-1 div.sk-estimator.fitted input.sk-toggleable__control:checked~label.sk-toggleable__label {\n",
       "  /* fitted */\n",
       "  background-color: var(--sklearn-color-fitted-level-2);\n",
       "}\n",
       "\n",
       "#sk-container-id-1 div.sk-label label.sk-toggleable__label,\n",
       "#sk-container-id-1 div.sk-label label {\n",
       "  /* The background is the default theme color */\n",
       "  color: var(--sklearn-color-text-on-default-background);\n",
       "}\n",
       "\n",
       "/* On hover, darken the color of the background */\n",
       "#sk-container-id-1 div.sk-label:hover label.sk-toggleable__label {\n",
       "  color: var(--sklearn-color-text);\n",
       "  background-color: var(--sklearn-color-unfitted-level-2);\n",
       "}\n",
       "\n",
       "/* Label box, darken color on hover, fitted */\n",
       "#sk-container-id-1 div.sk-label.fitted:hover label.sk-toggleable__label.fitted {\n",
       "  color: var(--sklearn-color-text);\n",
       "  background-color: var(--sklearn-color-fitted-level-2);\n",
       "}\n",
       "\n",
       "/* Estimator label */\n",
       "\n",
       "#sk-container-id-1 div.sk-label label {\n",
       "  font-family: monospace;\n",
       "  font-weight: bold;\n",
       "  display: inline-block;\n",
       "  line-height: 1.2em;\n",
       "}\n",
       "\n",
       "#sk-container-id-1 div.sk-label-container {\n",
       "  text-align: center;\n",
       "}\n",
       "\n",
       "/* Estimator-specific */\n",
       "#sk-container-id-1 div.sk-estimator {\n",
       "  font-family: monospace;\n",
       "  border: 1px dotted var(--sklearn-color-border-box);\n",
       "  border-radius: 0.25em;\n",
       "  box-sizing: border-box;\n",
       "  margin-bottom: 0.5em;\n",
       "  /* unfitted */\n",
       "  background-color: var(--sklearn-color-unfitted-level-0);\n",
       "}\n",
       "\n",
       "#sk-container-id-1 div.sk-estimator.fitted {\n",
       "  /* fitted */\n",
       "  background-color: var(--sklearn-color-fitted-level-0);\n",
       "}\n",
       "\n",
       "/* on hover */\n",
       "#sk-container-id-1 div.sk-estimator:hover {\n",
       "  /* unfitted */\n",
       "  background-color: var(--sklearn-color-unfitted-level-2);\n",
       "}\n",
       "\n",
       "#sk-container-id-1 div.sk-estimator.fitted:hover {\n",
       "  /* fitted */\n",
       "  background-color: var(--sklearn-color-fitted-level-2);\n",
       "}\n",
       "\n",
       "/* Specification for estimator info (e.g. \"i\" and \"?\") */\n",
       "\n",
       "/* Common style for \"i\" and \"?\" */\n",
       "\n",
       ".sk-estimator-doc-link,\n",
       "a:link.sk-estimator-doc-link,\n",
       "a:visited.sk-estimator-doc-link {\n",
       "  float: right;\n",
       "  font-size: smaller;\n",
       "  line-height: 1em;\n",
       "  font-family: monospace;\n",
       "  background-color: var(--sklearn-color-background);\n",
       "  border-radius: 1em;\n",
       "  height: 1em;\n",
       "  width: 1em;\n",
       "  text-decoration: none !important;\n",
       "  margin-left: 1ex;\n",
       "  /* unfitted */\n",
       "  border: var(--sklearn-color-unfitted-level-1) 1pt solid;\n",
       "  color: var(--sklearn-color-unfitted-level-1);\n",
       "}\n",
       "\n",
       ".sk-estimator-doc-link.fitted,\n",
       "a:link.sk-estimator-doc-link.fitted,\n",
       "a:visited.sk-estimator-doc-link.fitted {\n",
       "  /* fitted */\n",
       "  border: var(--sklearn-color-fitted-level-1) 1pt solid;\n",
       "  color: var(--sklearn-color-fitted-level-1);\n",
       "}\n",
       "\n",
       "/* On hover */\n",
       "div.sk-estimator:hover .sk-estimator-doc-link:hover,\n",
       ".sk-estimator-doc-link:hover,\n",
       "div.sk-label-container:hover .sk-estimator-doc-link:hover,\n",
       ".sk-estimator-doc-link:hover {\n",
       "  /* unfitted */\n",
       "  background-color: var(--sklearn-color-unfitted-level-3);\n",
       "  color: var(--sklearn-color-background);\n",
       "  text-decoration: none;\n",
       "}\n",
       "\n",
       "div.sk-estimator.fitted:hover .sk-estimator-doc-link.fitted:hover,\n",
       ".sk-estimator-doc-link.fitted:hover,\n",
       "div.sk-label-container:hover .sk-estimator-doc-link.fitted:hover,\n",
       ".sk-estimator-doc-link.fitted:hover {\n",
       "  /* fitted */\n",
       "  background-color: var(--sklearn-color-fitted-level-3);\n",
       "  color: var(--sklearn-color-background);\n",
       "  text-decoration: none;\n",
       "}\n",
       "\n",
       "/* Span, style for the box shown on hovering the info icon */\n",
       ".sk-estimator-doc-link span {\n",
       "  display: none;\n",
       "  z-index: 9999;\n",
       "  position: relative;\n",
       "  font-weight: normal;\n",
       "  right: .2ex;\n",
       "  padding: .5ex;\n",
       "  margin: .5ex;\n",
       "  width: min-content;\n",
       "  min-width: 20ex;\n",
       "  max-width: 50ex;\n",
       "  color: var(--sklearn-color-text);\n",
       "  box-shadow: 2pt 2pt 4pt #999;\n",
       "  /* unfitted */\n",
       "  background: var(--sklearn-color-unfitted-level-0);\n",
       "  border: .5pt solid var(--sklearn-color-unfitted-level-3);\n",
       "}\n",
       "\n",
       ".sk-estimator-doc-link.fitted span {\n",
       "  /* fitted */\n",
       "  background: var(--sklearn-color-fitted-level-0);\n",
       "  border: var(--sklearn-color-fitted-level-3);\n",
       "}\n",
       "\n",
       ".sk-estimator-doc-link:hover span {\n",
       "  display: block;\n",
       "}\n",
       "\n",
       "/* \"?\"-specific style due to the `<a>` HTML tag */\n",
       "\n",
       "#sk-container-id-1 a.estimator_doc_link {\n",
       "  float: right;\n",
       "  font-size: 1rem;\n",
       "  line-height: 1em;\n",
       "  font-family: monospace;\n",
       "  background-color: var(--sklearn-color-background);\n",
       "  border-radius: 1rem;\n",
       "  height: 1rem;\n",
       "  width: 1rem;\n",
       "  text-decoration: none;\n",
       "  /* unfitted */\n",
       "  color: var(--sklearn-color-unfitted-level-1);\n",
       "  border: var(--sklearn-color-unfitted-level-1) 1pt solid;\n",
       "}\n",
       "\n",
       "#sk-container-id-1 a.estimator_doc_link.fitted {\n",
       "  /* fitted */\n",
       "  border: var(--sklearn-color-fitted-level-1) 1pt solid;\n",
       "  color: var(--sklearn-color-fitted-level-1);\n",
       "}\n",
       "\n",
       "/* On hover */\n",
       "#sk-container-id-1 a.estimator_doc_link:hover {\n",
       "  /* unfitted */\n",
       "  background-color: var(--sklearn-color-unfitted-level-3);\n",
       "  color: var(--sklearn-color-background);\n",
       "  text-decoration: none;\n",
       "}\n",
       "\n",
       "#sk-container-id-1 a.estimator_doc_link.fitted:hover {\n",
       "  /* fitted */\n",
       "  background-color: var(--sklearn-color-fitted-level-3);\n",
       "}\n",
       "</style><div id=\"sk-container-id-1\" class=\"sk-top-container\"><div class=\"sk-text-repr-fallback\"><pre>RandomForestRegressor(random_state=42)</pre><b>In a Jupyter environment, please rerun this cell to show the HTML representation or trust the notebook. <br />On GitHub, the HTML representation is unable to render, please try loading this page with nbviewer.org.</b></div><div class=\"sk-container\" hidden><div class=\"sk-item\"><div class=\"sk-estimator fitted sk-toggleable\"><input class=\"sk-toggleable__control sk-hidden--visually\" id=\"sk-estimator-id-1\" type=\"checkbox\" checked><label for=\"sk-estimator-id-1\" class=\"sk-toggleable__label fitted sk-toggleable__label-arrow fitted\">&nbsp;&nbsp;RandomForestRegressor<a class=\"sk-estimator-doc-link fitted\" rel=\"noreferrer\" target=\"_blank\" href=\"https://scikit-learn.org/1.5/modules/generated/sklearn.ensemble.RandomForestRegressor.html\">?<span>Documentation for RandomForestRegressor</span></a><span class=\"sk-estimator-doc-link fitted\">i<span>Fitted</span></span></label><div class=\"sk-toggleable__content fitted\"><pre>RandomForestRegressor(random_state=42)</pre></div> </div></div></div></div>"
      ],
      "text/plain": [
       "RandomForestRegressor(random_state=42)"
      ]
     },
     "execution_count": 12,
     "metadata": {},
     "output_type": "execute_result"
    }
   ],
   "source": [
    "# Combinar representaciones TF-IDF con otras características numéricas\n",
    "X_combined = pd.concat([\n",
    "    pd.DataFrame(X_tfidf_requisitos, columns=tfidf.get_feature_names_out()),\n",
    "    pd.DataFrame(X_tfidf_habilidades, columns=[f\"H_{col}\" for col in tfidf.get_feature_names_out()]),\n",
    "    X[['Duracion']].reset_index(drop=True)\n",
    "], axis=1)\n",
    "\n",
    "# Dividir en conjunto de entrenamiento y prueba\n",
    "X_train, X_test, y_train, y_test = train_test_split(X_combined, y, test_size=0.2, random_state=42)\n",
    "\n",
    "# Entrenar un modelo Random Forest\n",
    "model = RandomForestRegressor(n_estimators=100, random_state=42)\n",
    "model.fit(X_train, y_train)"
   ]
  },
  {
   "cell_type": "code",
   "execution_count": 13,
   "id": "e05e26c5-2d95-41e3-a405-49ca50d69a3a",
   "metadata": {
    "tags": []
   },
   "outputs": [
    {
     "name": "stdout",
     "output_type": "stream",
     "text": [
      "RMSE del modelo: 8.816197511263557\n"
     ]
    },
    {
     "name": "stderr",
     "output_type": "stream",
     "text": [
      "/home/ec2-user/anaconda3/envs/python3/lib/python3.10/site-packages/sklearn/metrics/_regression.py:492: FutureWarning: 'squared' is deprecated in version 1.4 and will be removed in 1.6. To calculate the root mean squared error, use the function'root_mean_squared_error'.\n",
      "  warnings.warn(\n"
     ]
    }
   ],
   "source": [
    "# Predicción y evaluación\n",
    "y_pred = model.predict(X_test)\n",
    "rmse = mean_squared_error(y_test, y_pred, squared=False)\n",
    "print(f\"RMSE del modelo: {rmse}\")"
   ]
  },
  {
   "cell_type": "code",
   "execution_count": 14,
   "id": "4309b198-2ada-4608-86ae-b8cde9f0cc3c",
   "metadata": {
    "tags": []
   },
   "outputs": [
    {
     "name": "stdout",
     "output_type": "stream",
     "text": [
      "        ID_Vacante  ID_Candidato  Ranking_Predicho\n",
      "0            23805         68351         35.739484\n",
      "1            23805         75937         24.937500\n",
      "2            23805          1617         50.806250\n",
      "3            23805            99         25.000000\n",
      "4            23805         15936         32.840142\n",
      "...            ...           ...               ...\n",
      "199995        6837         28323         66.666667\n",
      "199996        6837          1236          0.000000\n",
      "199997        6837         50468          0.000000\n",
      "199998        6837         22375         66.666667\n",
      "199999        6837         47111          0.000000\n",
      "\n",
      "[200000 rows x 3 columns]\n"
     ]
    }
   ],
   "source": [
    "# Predicción en nuevos datos\n",
    "vacantes_reducido2 = vacantes.sample(20, random_state=42)\n",
    "candidatos_reducido2 = candidatos.sample(10000, random_state=42)\n",
    "\n",
    "# Emparejar las vacantes seleccionadas con todos los candidatos\n",
    "nueva_combinacion = vacantes_reducido2.merge(candidatos_reducido2, how='cross')\n",
    "nueva_combinacion['Ranking_Predicho'] = model.predict(X_combined)\n",
    "print(nueva_combinacion[['ID_Vacante', 'ID_Candidato', 'Ranking_Predicho']])"
   ]
  },
  {
   "cell_type": "code",
   "execution_count": 15,
   "id": "6886256b-7c87-48e6-b943-dfb1934af260",
   "metadata": {
    "tags": []
   },
   "outputs": [
    {
     "data": {
      "text/plain": [
       "(200000, 15)"
      ]
     },
     "execution_count": 15,
     "metadata": {},
     "output_type": "execute_result"
    }
   ],
   "source": [
    "nueva_combinacion.shape"
   ]
  },
  {
   "cell_type": "code",
   "execution_count": 16,
   "id": "fd9e1d05-1c5a-4479-9713-fe1cd246f3d2",
   "metadata": {
    "tags": []
   },
   "outputs": [],
   "source": [
    "def calcular_coincidencia(row):\n",
    "    habilidades_candidato = set(row['Habilidades_Utilizadas'].lower().split(','))\n",
    "    requisitos_puesto = set(row['Requisitos'].lower().split(','))\n",
    "    \n",
    "    # Calcular la intersección de habilidades\n",
    "    coincidencias = habilidades_candidato.intersection(requisitos_puesto)\n",
    "    \n",
    "    # Calcular el porcentaje de coincidencia\n",
    "    if len(requisitos_puesto) > 0:\n",
    "        return (len(coincidencias) / len(requisitos_puesto)) * 100\n",
    "    else:\n",
    "        return 0"
   ]
  },
  {
   "cell_type": "code",
   "execution_count": 17,
   "id": "de054fc6-361c-40fc-a7e5-d00e985a2a0f",
   "metadata": {
    "tags": []
   },
   "outputs": [],
   "source": [
    "# Aplicar la función a cada fila del DataFrame para crear la columna 'Coincidencia_Habilidades (%)'\n",
    "nueva_combinacion['Coincidencia_Habilidades (%)'] = nueva_combinacion.apply(calcular_coincidencia, axis=1)"
   ]
  },
  {
   "cell_type": "code",
   "execution_count": 18,
   "id": "79e4dac7-0986-493f-a408-8c70244d9a02",
   "metadata": {
    "tags": []
   },
   "outputs": [
    {
     "data": {
      "text/plain": [
       "Index(['ID_Vacante', 'Titulo_Puesto_x', 'Descripcion', 'Requisitos',\n",
       "       'ID_Candidato', 'Nombre', 'Email', 'Telefono', 'Direccion',\n",
       "       'ID_Experiencia', 'Empresa', 'Titulo_Puesto_y', 'Duracion',\n",
       "       'Habilidades_Utilizadas', 'Ranking_Predicho',\n",
       "       'Coincidencia_Habilidades (%)'],\n",
       "      dtype='object')"
      ]
     },
     "execution_count": 18,
     "metadata": {},
     "output_type": "execute_result"
    }
   ],
   "source": [
    "nueva_combinacion.columns"
   ]
  },
  {
   "cell_type": "code",
   "execution_count": 19,
   "id": "33bc4c2a-8ba0-4607-af61-47e6ee14e39c",
   "metadata": {
    "tags": []
   },
   "outputs": [],
   "source": [
    "resultados = nueva_combinacion.sample(50000, random_state=42)"
   ]
  },
  {
   "cell_type": "code",
   "execution_count": 27,
   "id": "cc58b2d5-59c5-4060-8850-58adbf4c2bd9",
   "metadata": {
    "tags": []
   },
   "outputs": [],
   "source": [
    "# Supongamos que 'nueva_combinacion' es tu DataFrame\n",
    "resultados.to_excel('Resultados.xlsx')\n"
   ]
  },
  {
   "cell_type": "code",
   "execution_count": 28,
   "id": "8e50f6f4-1232-4b56-a80e-743e1b8418ad",
   "metadata": {
    "tags": []
   },
   "outputs": [
    {
     "name": "stdout",
     "output_type": "stream",
     "text": [
      "Archivo Resultados.xlsx subido correctamente al bucket challenge-csvstest\n"
     ]
    }
   ],
   "source": [
    "buffer = BytesIO()\n",
    "buffer.seek(0)\n",
    "s3_file_name = 'Resultados.xlsx'\n",
    "# Subir el archivo al bucket de S3\n",
    "s3.upload_fileobj(buffer, output_s3, s3_file_name)\n",
    "\n",
    "print(f'Archivo {s3_file_name} subido correctamente al bucket {output_s3}')"
   ]
  }
 ],
 "metadata": {
  "kernelspec": {
   "display_name": "conda_python3",
   "language": "python",
   "name": "conda_python3"
  },
  "language_info": {
   "codemirror_mode": {
    "name": "ipython",
    "version": 3
   },
   "file_extension": ".py",
   "mimetype": "text/x-python",
   "name": "python",
   "nbconvert_exporter": "python",
   "pygments_lexer": "ipython3",
   "version": "3.10.15"
  }
 },
 "nbformat": 4,
 "nbformat_minor": 5
}
